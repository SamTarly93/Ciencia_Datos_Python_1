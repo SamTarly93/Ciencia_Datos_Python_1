{
 "cells": [
  {
   "cell_type": "markdown",
   "metadata": {},
   "source": [
    "Problema 1"
   ]
  },
  {
   "cell_type": "code",
   "execution_count": 8,
   "metadata": {},
   "outputs": [
    {
     "name": "stdout",
     "output_type": "stream",
     "text": [
      "Has ingresado un número negativo. Por favor, introduce una cantidad positiva de segundos.\n"
     ]
    }
   ],
   "source": [
    "\n",
    "segundos = int(input(\"Ingresa la cantidad de segundos: \"))\n",
    "horas = segundos // 3600\n",
    "minutos = (segundos % 3600) // 60\n",
    "segundos_restantes = (segundos % 3600) % 60\n",
    "\n",
    "if segundos < 0:\n",
    "    print(\"Has ingresado un número negativo. Por favor, introduce una cantidad positiva de segundos.\")\n",
    "else:\n",
    "    print(f\"{segundos} =  {horas} horas, {minutos} minutos y {segundos_restantes} segundos.\")\n"
   ]
  },
  {
   "cell_type": "markdown",
   "metadata": {},
   "source": [
    "Problema 2\n"
   ]
  },
  {
   "cell_type": "code",
   "execution_count": 29,
   "metadata": {},
   "outputs": [
    {
     "name": "stdout",
     "output_type": "stream",
     "text": [
      "*     ****  ****     *\n",
      "**     ***  ***     **\n",
      "***     **  **     ***\n",
      "****     *  *     ****\n"
     ]
    }
   ],
   "source": [
    "# Reescribiremos y ejecutaremos la función ajustada para imprimir los cuatro triángulos rotados 90 grados horizontalmente\n",
    "def triangulos(num_filas):\n",
    "    if num_filas>0 and num_filas<21:\n",
    "        # Inicializar los triángulos como listas de cadenas vacías\n",
    "        triangulo_izq = ['' for _ in range(num_filas)]\n",
    "        triangulo_der = ['' for _ in range(num_filas)]\n",
    "        triangulo_izq_inv = ['' for _ in range(num_filas)]\n",
    "        triangulo_der_inv = ['' for _ in range(num_filas)]\n",
    "\n",
    "        # Construir los triángulos izquierdo y derecho\n",
    "        for i in range(num_filas):\n",
    "            triangulo_izq[i] = '*' * (i + 1)\n",
    "            triangulo_der[i] = '*' * (num_filas - i)\n",
    "            triangulo_izq_inv[i] = '*' * (num_filas - i)\n",
    "            triangulo_der_inv[i] = '*' * (i + 1)\n",
    "\n",
    "        # Imprimir los triángulos en la orientación correcta\n",
    "        for i in range(num_filas):\n",
    "            print(triangulo_izq[i].ljust(num_filas) + '  ' + triangulo_der[i].rjust(num_filas) + '  ' +\n",
    "                triangulo_izq_inv[i].ljust(num_filas) + '  ' + triangulo_der_inv[i].rjust(num_filas))\n",
    "    else:\n",
    "        print('Numero de filas invalido')\n",
    "# Definiremos un número de filas de prueba para mostrar la salida aquí\n",
    "num_filas = int(input(\"Ingresa la cantidad de filas: \"))\n",
    "\n",
    "# Ejecutar la función con un número de prueba ya que no podemos tomar entrada de usuario aquí\n",
    "triangulos(num_filas)\n",
    "\n"
   ]
  },
  {
   "cell_type": "markdown",
   "metadata": {},
   "source": [
    "Problema 3"
   ]
  },
  {
   "cell_type": "code",
   "execution_count": 33,
   "metadata": {},
   "outputs": [
    {
     "name": "stdout",
     "output_type": "stream",
     "text": [
      "Usted tiene 3.0 años, 12.0 meses y 1.25 días de edad.\n"
     ]
    }
   ],
   "source": [
    "import datetime\n",
    "\n",
    "def calcular_edad():\n",
    "    # Pedir al usuario su fecha de nacimiento\n",
    "    dia_nacimiento = int(input(\"Ingrese su día de nacimiento: \"))\n",
    "    mes_nacimiento = int(input(\"Ingrese su mes de nacimiento: \"))\n",
    "    ano_nacimiento = int(input(\"Ingrese su año de nacimiento: \"))\n",
    "    \n",
    "    # Obtener la fecha actual\n",
    "    fecha_actual = datetime.date.today()\n",
    "    \n",
    "    # Crear una fecha para la fecha de nacimiento\n",
    "    fecha_nacimiento = datetime.date(ano_nacimiento, mes_nacimiento, dia_nacimiento)\n",
    "    \n",
    "    # Calcular la diferencia en días\n",
    "    diferencia_dias = (fecha_actual - fecha_nacimiento).days\n",
    "    \n",
    "    # Convertir la diferencia en años, meses y días\n",
    "    edad_anos = diferencia_dias // 365.25\n",
    "    edad_meses = (diferencia_dias % 365.25) // 30\n",
    "    edad_dias = (diferencia_dias % 365.25) % 30\n",
    "    print(f\"Usted tiene {edad_anos} años, {edad_meses} meses y {edad_dias} días de edad.\")\n",
    "\n",
    "calcular_edad()\n"
   ]
  },
  {
   "cell_type": "markdown",
   "metadata": {},
   "source": [
    "Problema 4"
   ]
  },
  {
   "cell_type": "code",
   "execution_count": 39,
   "metadata": {},
   "outputs": [
    {
     "name": "stdout",
     "output_type": "stream",
     "text": [
      "A2040B70\n"
     ]
    }
   ],
   "source": [
    "def tupla_a_string(tupla):\n",
    "    resultado = ''.join(str(elemento) for elemento in tupla)\n",
    "    return resultado\n",
    "\n",
    "# Ejemplo de uso\n",
    "tupla_entrada = ('A', 20, 40, 'B', 70)\n",
    "resultado = tupla_a_string(tupla_entrada)\n",
    "print(resultado)"
   ]
  },
  {
   "cell_type": "markdown",
   "metadata": {},
   "source": [
    "Problema 5"
   ]
  },
  {
   "cell_type": "code",
   "execution_count": 43,
   "metadata": {},
   "outputs": [
    {
     "name": "stdout",
     "output_type": "stream",
     "text": [
      "['X', ('a', 'b'), ('a', 'b', 'c'), 'd']\n"
     ]
    }
   ],
   "source": [
    "def eliminar_tuplas_vacias(lista_tuplas):\n",
    "    # Filtrar las tuplas que no están vacías\n",
    "    lista_filtrada = [tupla for tupla in lista_tuplas if tupla]\n",
    "    return lista_filtrada\n",
    "\n",
    "# Ejemplo de uso\n",
    "lista_entrada = [(), (), ('X'), ('a', 'b'), ('a', 'b', 'c'), ('d')]\n",
    "resultado = eliminar_tuplas_vacias(lista_entrada)\n",
    "print(resultado) "
   ]
  },
  {
   "cell_type": "markdown",
   "metadata": {},
   "source": [
    "Problema 6"
   ]
  },
  {
   "cell_type": "code",
   "execution_count": 44,
   "metadata": {},
   "outputs": [
    {
     "name": "stdout",
     "output_type": "stream",
     "text": [
      "(10.5, 44.0, 58.0)\n"
     ]
    }
   ],
   "source": [
    "def promedio_tuplas(tuplas):\n",
    "    # Calcular el promedio de cada tupla usando una comprensión de tuplas\n",
    "    promedios = tuple(sum(tupla) / len(tupla) for tupla in tuplas if len(tupla) > 0)\n",
    "    return promedios\n",
    "\n",
    "# Ejemplo de uso\n",
    "tupla_entrada = ((10, 10, 10, 12), (30, 45, 56, 45), (81, 80, 39, 32))\n",
    "resultado = promedio_tuplas(tupla_entrada)\n",
    "print(resultado)\n"
   ]
  },
  {
   "cell_type": "markdown",
   "metadata": {},
   "source": [
    "Problema 7"
   ]
  },
  {
   "cell_type": "code",
   "execution_count": 51,
   "metadata": {},
   "outputs": [
    {
     "name": "stdout",
     "output_type": "stream",
     "text": [
      "Facturas actuales: {'1212': 400.0}\n",
      "Total cobrado: 0\n",
      "Total pendiente: 400.0\n",
      "Facturas actuales: {'1212': 400.0, '1111': 100.0}\n",
      "Total cobrado: 0\n",
      "Total pendiente: 500.0\n",
      "Factura 1212 pagada correctamente.\n",
      "Facturas pendientes: {'1111': 100.0}\n",
      "Total cobrado: 400.0\n",
      "Total pendiente: 100.0\n",
      "Total cobrado: 400.0\n",
      "Total pendiente: 100.0\n",
      "Finalizando programa...\n"
     ]
    }
   ],
   "source": [
    "def gestionar_facturas():\n",
    "    facturas = {}\n",
    "    total_cobrado = 0\n",
    "\n",
    "    while True:\n",
    "        accion = input(\"¿Desea añadir una nueva factura (a), pagar una factura (p) o terminar (t)? \")\n",
    "\n",
    "        if accion == 'a':\n",
    "            num_factura = input(\"Ingrese el número de factura (4 dígitos): \")\n",
    "            if len(num_factura)==4:\n",
    "                coste = float(input(\"Ingrese el coste de la factura: \"))\n",
    "                facturas[num_factura] = coste\n",
    "                print(\"Facturas actuales:\", facturas)\n",
    "            else:\n",
    "                print('La factura debe ser igual a 4 digitos')\n",
    "                print(\"Finalizando programa...\")\n",
    "                break\n",
    "\n",
    "        elif accion == 'p':\n",
    "            num_factura = input(\"Ingrese el número de factura a pagar: \")\n",
    "            if num_factura in facturas:\n",
    "                total_cobrado += facturas.pop(num_factura)\n",
    "                print(f\"Factura {num_factura} pagada correctamente.\")\n",
    "            else:\n",
    "                print(\"La factura no existe.\")\n",
    "            \n",
    "            print(\"Facturas pendientes:\", facturas)\n",
    "\n",
    "        elif accion == 't':\n",
    "            print(\"Finalizando programa...\")\n",
    "            break\n",
    "        \n",
    "        print(f\"Total cobrado: {total_cobrado}\")\n",
    "        print(f\"Total pendiente: {sum(facturas.values())}\")\n",
    "\n",
    "gestionar_facturas()\n"
   ]
  },
  {
   "cell_type": "code",
   "execution_count": 100,
   "metadata": {},
   "outputs": [
    {
     "name": "stdout",
     "output_type": "stream",
     "text": [
      "{'E13', 'T10', 'T07', 'T02', 'E01', 'C09', 'P03', 'E04', 'C10', 'P08', 'E03', 'C04', 'C01', 'E07', 'E02', 'T11', 'E11', 'C02', 'C13', 'P10', 'C05', 'P05', 'P04', 'T04', 'P13'}\n",
      "{'T01', 'T10', 'P02', 'E10', 'E05', 'C03'}\n",
      "0.019230769230769232\n",
      "False\n",
      "0.5769230769230769\n",
      "True\n"
     ]
    }
   ],
   "source": [
    "import random\n",
    "\n",
    "# Parte 1: Crear un set con todas las cartas de una baraja de Poker\n",
    "def crear_baraja():\n",
    "    tipos = ['T', 'C', 'P', 'E']  # Tréboles, Corazones, Picas, Espadas\n",
    "    cartas = {f\"{tipo}{numero:02d}\" for tipo in tipos for numero in range(1, 14)}\n",
    "    return cartas\n",
    "\n",
    "# Parte 2: Crear dos sets nuevos de cartas con cantidades variables de elementos\n",
    "\n",
    "def crear_subconjuntos(baraja):\n",
    "    baraja_lista = list(baraja)  # Convertir el set a lista\n",
    "    num_cartas1 = random.randint(1, len(baraja_lista))  # Número aleatorio de cartas para el conjunto 1\n",
    "    num_cartas2 = random.randint(1, len(baraja_lista))  # Número aleatorio de cartas para el conjunto 2\n",
    "    \n",
    "    conjunto1 = set(random.sample(baraja_lista, num_cartas1))\n",
    "    conjunto2 = set(random.sample(baraja_lista, num_cartas2))\n",
    "    \n",
    "    return conjunto1, conjunto2\n",
    "\n",
    "# Parte 3: Calcular la probabilidad de intersección de ambos conjuntos y demostrar si son eventos independientes\n",
    "def probabilidad_interseccion(conjunto1, conjunto2, baraja):\n",
    "    interseccion = conjunto1.intersection(conjunto2)\n",
    "    prob_interseccion = len(interseccion) / len(baraja)\n",
    "    \n",
    "    # Probabilidades individuales\n",
    "    prob_conjunto1 = len(conjunto1) / len(baraja)\n",
    "    prob_conjunto2 = len(conjunto2) / len(baraja)\n",
    "    \n",
    "    # Verificar si son eventos independientes P(A ∩ B) = P(A) * P(B)\n",
    "    son_independientes = prob_interseccion == prob_conjunto1 * prob_conjunto2\n",
    "    \n",
    "    return prob_interseccion, son_independientes\n",
    "\n",
    "# Parte 4: Calcular la probabilidad de la unión de ambos conjuntos y demostrar que se cumple la regla de la adición\n",
    "def probabilidad_union(conjunto1, conjunto2, baraja):\n",
    "    union = conjunto1.union(conjunto2)\n",
    "    prob_union = len(union) / len(baraja)\n",
    "    \n",
    "    # Probabilidades individuales y de intersección\n",
    "    prob_conjunto1 = len(conjunto1) / len(baraja)\n",
    "    prob_conjunto2 = len(conjunto2) / len(baraja)\n",
    "    prob_interseccion = len(conjunto1.intersection(conjunto2)) / len(baraja)\n",
    "    \n",
    "    # Verificar regla de la adición P(A ∪ B) = P(A) + P(B) - P(A ∩ B)\n",
    "    cumple_regla_adicion = prob_union == (prob_conjunto1 + prob_conjunto2 - prob_interseccion)\n",
    "    \n",
    "    return prob_union, cumple_regla_adicion\n",
    "\n",
    "baraja = crear_baraja()\n",
    "conjunto1, conjunto2 = crear_subconjuntos(baraja)\n",
    "prob_interseccion, son_independientes = probabilidad_interseccion(conjunto1, conjunto2, baraja)\n",
    "\n",
    "prob_union, cumple_regla_adicion = probabilidad_union(conjunto1, conjunto2, baraja)\n",
    "\n",
    "print(conjunto1)\n",
    "print(conjunto2)\n",
    "print(prob_interseccion)\n",
    "print(son_independientes)\n",
    "print(prob_union)\n",
    "print(cumple_regla_adicion)\n",
    "\n"
   ]
  }
 ],
 "metadata": {
  "kernelspec": {
   "display_name": "Python 3",
   "language": "python",
   "name": "python3"
  },
  "language_info": {
   "codemirror_mode": {
    "name": "ipython",
    "version": 3
   },
   "file_extension": ".py",
   "mimetype": "text/x-python",
   "name": "python",
   "nbconvert_exporter": "python",
   "pygments_lexer": "ipython3",
   "version": "3.12.1"
  }
 },
 "nbformat": 4,
 "nbformat_minor": 2
}
